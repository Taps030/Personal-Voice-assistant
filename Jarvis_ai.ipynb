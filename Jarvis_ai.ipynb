{
 "cells": [
  {
   "cell_type": "code",
   "execution_count": null,
   "id": "e908c36b",
   "metadata": {},
   "outputs": [],
   "source": [
    "import pyttsx3\n",
    "import speech_recognition as sr\n",
    "import webbrowser\n",
    "import datetime\n",
    "import pyjokes\n",
    "import os\n",
    "import time\n",
    "import openai\n"
   ]
  },
  {
   "cell_type": "code",
   "execution_count": null,
   "id": "65d00547",
   "metadata": {},
   "outputs": [],
   "source": [
    "def sptext():\n",
    "    recognizer=sr.Recognizer()\n",
    "    with sr.Microphone() as source:\n",
    "        print(\"Listening...\")\n",
    "        recognizer.adjust_for_ambient_noise(source)\n",
    "        audio=recognizer.listen(source)\n",
    "        try:\n",
    "            print(\"recognizing...\")\n",
    "            data=recognizer.recognize_google(audio)\n",
    "            print(data)\n",
    "            return data\n",
    "        except sr.UnknownValueError:\n",
    "            print(\"Not Understanding\")\n"
   ]
  },
  {
   "cell_type": "code",
   "execution_count": null,
   "id": "fdc2bd83",
   "metadata": {},
   "outputs": [],
   "source": [
    "\n",
    "def speechtx(text):\n",
    "    engine = pyttsx3.init()\n",
    "    voices = engine.getProperty('voices')\n",
    "    engine.setProperty('voice', voices[0].id)\n",
    "    rate = engine.getProperty('rate')\n",
    "    engine.setProperty('rate', 140)  # the rate of speech\n",
    "    engine.say(text)  # Using the passed text parameter\n",
    "    engine.runAndWait()\n",
    "\n",
    "    "
   ]
  },
  {
   "cell_type": "code",
   "execution_count": 11,
   "id": "23a922bc",
   "metadata": {},
   "outputs": [],
   "source": [
    "openai.api_key = 'sk-8NSHIMD4kmgbSaPREVS2rCIzQgT5wCmQqqWJARFbVTT3BlbkFJ7XvwX7HcptDtY9rugPgPKdeeiY94sMrX2L-59bdOUA'  # Replace with your actual API key\n",
    "\n",
    "# Function to call OpenAI's GPT model\n",
    "def ask_openai(question):\n",
    "    response = openai.Completion.create(\n",
    "        engine=\"text-davinci-003\",  # You can replace with a different model if needed\n",
    "        prompt=question,\n",
    "        max_tokens=150\n",
    "    )\n",
    "    answer = response.choices[0].text.strip()\n",
    "    return answer"
   ]
  },
  {
   "cell_type": "code",
   "execution_count": 14,
   "id": "07d32be7",
   "metadata": {},
   "outputs": [
    {
     "name": "stdout",
     "output_type": "stream",
     "text": [
      "Listening...\n",
      "recognizing...\n",
      "Banerjee\n",
      "Listening...\n",
      "recognizing...\n",
      "tell me a joke\n",
      "Schrodinger's attitude to web development: If I don't look at it in Internet Explorer then there's a chance it looks fine.\n",
      "Listening...\n",
      "recognizing...\n",
      "Not Understanding\n"
     ]
    },
    {
     "ename": "AttributeError",
     "evalue": "'NoneType' object has no attribute 'lower'",
     "output_type": "error",
     "traceback": [
      "\u001b[1;31m---------------------------------------------------------------------------\u001b[0m",
      "\u001b[1;31mAttributeError\u001b[0m                            Traceback (most recent call last)",
      "Input \u001b[1;32mIn [14]\u001b[0m, in \u001b[0;36m<cell line: 1>\u001b[1;34m()\u001b[0m\n\u001b[0;32m      3\u001b[0m \u001b[38;5;28;01mif\u001b[39;00m \u001b[38;5;124m\"\u001b[39m\u001b[38;5;124mbanerjee\u001b[39m\u001b[38;5;124m\"\u001b[39m \u001b[38;5;129;01min\u001b[39;00m sptext()\u001b[38;5;241m.\u001b[39mstrip()\u001b[38;5;241m.\u001b[39mlower():\n\u001b[0;32m      4\u001b[0m     \u001b[38;5;28;01mwhile\u001b[39;00m \u001b[38;5;28;01mTrue\u001b[39;00m:\n\u001b[1;32m----> 5\u001b[0m         data1\u001b[38;5;241m=\u001b[39m\u001b[43msptext\u001b[49m\u001b[43m(\u001b[49m\u001b[43m)\u001b[49m\u001b[38;5;241;43m.\u001b[39;49m\u001b[43mlower\u001b[49m()\n\u001b[0;32m      7\u001b[0m         \u001b[38;5;28;01mif\u001b[39;00m \u001b[38;5;124m\"\u001b[39m\u001b[38;5;124myour name\u001b[39m\u001b[38;5;124m\"\u001b[39m \u001b[38;5;129;01min\u001b[39;00m data1:\n\u001b[0;32m      8\u001b[0m             name\u001b[38;5;241m=\u001b[39m\u001b[38;5;124m\"\u001b[39m\u001b[38;5;124mmy name is banerjee\u001b[39m\u001b[38;5;124m\"\u001b[39m\n",
      "\u001b[1;31mAttributeError\u001b[0m: 'NoneType' object has no attribute 'lower'"
     ]
    }
   ],
   "source": [
    "if __name__=='__main__':\n",
    "    \n",
    "    if \"banerjee\" in sptext().strip().lower():\n",
    "        while True:\n",
    "            data1=sptext().lower()\n",
    "        \n",
    "            if \"your name\" in data1:\n",
    "                name=\"my name is banerjee\"\n",
    "                speechtx(name)\n",
    "            \n",
    "            elif \"old are you\" in data1:\n",
    "                age=\"i am two years old\"\n",
    "                speechtx(age)\n",
    "            elif 'time' in data1:\n",
    "                time= datetime.datetime.now().strftime(\"%I%M%p\")\n",
    "                speechtx(time)\n",
    "            elif 'youtube' in data1:\n",
    "                webbrowser.open(\"https://www.youtube.com/\")\n",
    "            elif 'lms' in data1:\n",
    "                webbrowser.open(\"https://platform.futurense.com/login/index.php\")\n",
    "            elif \"joke\" in data1:\n",
    "                joke_1=pyjokes.get_joke(language=\"en\",category=\"all\")\n",
    "                print(joke_1)\n",
    "                speechtx(joke_1)\n",
    "            elif 'play song'in data1:\n",
    "                add= \"C:\\My projects\\JARVIS AI ASSISTANT\\Music\"\n",
    "                listsong=os.listdir(add)\n",
    "                print(listsong )\n",
    "                os.startfile(os.path.join(add,listsong[0]))\n",
    "            elif \"ask openai\" in data1:\n",
    "                question = data1.replace(\"ask openai\", \"\").strip()  # Extract the question part\n",
    "                answer = ask_openai(question)\n",
    "                speechtx(answer)\n",
    "    \n",
    "            \n",
    "            elif \"exit\" in data1:\n",
    "                speechtx(\"thank you\")\n",
    "                break\n",
    "            time.sleep(5)\n",
    "            \n",
    "    else:\n",
    "        print(\"thanks\")\n",
    "   "
   ]
  },
  {
   "cell_type": "code",
   "execution_count": null,
   "id": "19595b40",
   "metadata": {},
   "outputs": [],
   "source": []
  }
 ],
 "metadata": {
  "kernelspec": {
   "display_name": "Python 3 (ipykernel)",
   "language": "python",
   "name": "python3"
  },
  "language_info": {
   "codemirror_mode": {
    "name": "ipython",
    "version": 3
   },
   "file_extension": ".py",
   "mimetype": "text/x-python",
   "name": "python",
   "nbconvert_exporter": "python",
   "pygments_lexer": "ipython3",
   "version": "3.9.12"
  }
 },
 "nbformat": 4,
 "nbformat_minor": 5
}
